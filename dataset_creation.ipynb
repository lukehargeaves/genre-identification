{
  "nbformat": 4,
  "nbformat_minor": 0,
  "metadata": {
    "colab": {
      "name": "dataset creation.ipynb",
      "provenance": [],
      "collapsed_sections": [],
      "toc_visible": true
    },
    "kernelspec": {
      "name": "python3",
      "display_name": "Python 3"
    },
    "accelerator": "TPU"
  },
  "cells": [
    {
      "cell_type": "markdown",
      "metadata": {
        "id": "ZU_oZhwSpg05",
        "colab_type": "text"
      },
      "source": [
        "## **(Implementation section 3.2.3)This is the script used to create the additional words per song dataset**"
      ]
    },
    {
      "cell_type": "markdown",
      "metadata": {
        "id": "GZoHhVON4Vw5",
        "colab_type": "text"
      },
      "source": [
        "Creates a function using the beautful soup API. The function passes the Created URL for the specific songs lyrics. The number of words contained within the lyrics are returned."
      ]
    },
    {
      "cell_type": "code",
      "metadata": {
        "id": "j24fk4iSCA8A",
        "colab_type": "code",
        "colab": {}
      },
      "source": [
        "import requests\n",
        "from bs4 import BeautifulSoup\n",
        "import numpy as np\n",
        "\n",
        "# Function that takes the custom url and returns the words per song\n",
        "def function(URL):\n",
        "\t# Requests the webpage using the URL\n",
        "\tr = requests.get(URL, allow_redirects=False)\n",
        "\t#  Extracts the section of html from the webpage\n",
        "\tsoup = BeautifulSoup(r.content,'html5lib')\n",
        "\n",
        "# Initialise an empty array to store the song lyrics \n",
        "\tlyrics = []\n",
        "\t# Iterates through the html returned from the webpage till the relevant section containing the lyrics is found\n",
        "\tfor paragraph in soup.find_all(\"p\",{\"id\":\"songLyricsDiv\"}):\n",
        "\t\t# Appends the lyrics to the empty array\n",
        "\t\tlyrics.append(paragraph.text)\n",
        "\n",
        "\t# Creates a function to format the lyrics returned. As the lyrics are done line by line in list format,\n",
        "\t# they need to be formatted back into string format.\n",
        "\tdef listtostring(s):\n",
        "\t\t# Intialise an empty string to store the formatted lyrics\n",
        "\t\tstr1 = \" \"\n",
        "\t\treturn(str1.join(s))\n",
        "\t# Calls the list to string function using the lyrics extracted from the html\n",
        "\tst = listtostring(lyrics) \n",
        "\t# Splits the individual strings into one large section of text\n",
        "\tst =st.split()\n",
        "\n",
        "# Returns the fomratted lyrics from the song\n",
        "\treturn st"
      ],
      "execution_count": 0,
      "outputs": []
    },
    {
      "cell_type": "code",
      "metadata": {
        "id": "EhhccvBNCDUl",
        "colab_type": "code",
        "colab": {}
      },
      "source": [
        "import pandas as pd\n",
        "# Loads in the million song dataset for the audio and song and artist names\n",
        "data = pd.read_csv('msd_genre_dataset.csv')\n",
        "\n",
        "# Extract the song name and artist names for each song\n",
        "title = data['title']\n",
        "artist = data['artist_name']\n",
        "\n",
        "# Initalise an array to store the created URL link\n",
        "link = []\n",
        "\n",
        "# Iterate through every song within the dataset and create a link to the website.\n",
        "# Once the link is created it is stored within the array\n",
        "for i in range(len(title)):\n",
        "  # Gets the song title and artist name at the given index. Important to get the name \n",
        "  # of the song and artist name in lower case.\n",
        "\tsn = title.loc[i].lower()\n",
        "#  Formats the spaces with - for the URL\n",
        "\tsn = sn.replace(' ','-')\n",
        "\tan = artist.loc[i].lower()\n",
        "\tan = an.replace(' ','-') \n",
        "#  Adds the artist name and song name in the correct format as an extension to the base URL\n",
        "\ttemp = an+'/'+sn+'-lyrics/'\n",
        "\turl = \"http://www.songlyrics.com/\"\n",
        "  # Create the new URL for that song and artist name \n",
        "\ttemp = url+temp\n",
        "  # Add the created URL to an empty array\n",
        "\tlink.append(temp)\n",
        "\n",
        "# Creates an empty array to store the index of any songs where the lyrics were incorrect\n",
        "# or couldnt be returned\n",
        "incorrect = []\n",
        "# Creates an empty array to store the number of words for that song\n",
        "wpm = []\n",
        "# Iterates through the the number of songs\n",
        "# *****Demonstration Purposes******\n",
        "for i in range(10):\n",
        "# UNCOMMMENT FOR WHEN NOT BEING USED WITHIN THE DEMONSTRATION\n",
        "# for i in range(len(data['title'])):\n",
        "\n",
        "  # Calls the function to get the song lyrics using the URL\n",
        "  t = function(link[i])\n",
        "  # Checks the length of the lyrics returned is greater than 1\n",
        "  if len(t) == 0:\n",
        "    incorrect.append(i)\n",
        "  # Checks that the lyrics returned do not start with sorry as this demonstrated\n",
        "  # the lyrics could not be returned\n",
        "  elif t[0] == 'Sorry,':\n",
        "    incorrect.append(i)\n",
        "  # checks that the length of the lyrics were greater than 40 as this indicated\n",
        "  # short hand was used\n",
        "  elif len(t) < 40:\n",
        "    incorrect.append(i)\n",
        "  # if all the conditions are passed then the number of words along with the song\n",
        "  # index is added to the array\n",
        "  else:\n",
        "    wpm.append([i,len(t)])"
      ],
      "execution_count": 0,
      "outputs": []
    },
    {
      "cell_type": "markdown",
      "metadata": {
        "id": "FD7ngUCqBFtt",
        "colab_type": "text"
      },
      "source": [
        "***ADDED FOR DEMONSTRATION **** \n",
        "Shows the output of the number of words returned for the lyrics that could be located"
      ]
    },
    {
      "cell_type": "code",
      "metadata": {
        "id": "AyaBjHSOBArE",
        "colab_type": "code",
        "outputId": "9085a8b6-1725-469a-bb71-e66029c0331b",
        "colab": {
          "base_uri": "https://localhost:8080/",
          "height": 34
        }
      },
      "source": [
        "wpm"
      ],
      "execution_count": 0,
      "outputs": [
        {
          "output_type": "execute_result",
          "data": {
            "text/plain": [
              "[[1, 130], [3, 227], [5, 128], [6, 216], [7, 119]]"
            ]
          },
          "metadata": {
            "tags": []
          },
          "execution_count": 4
        }
      ]
    },
    {
      "cell_type": "code",
      "metadata": {
        "id": "mu7kX4pN2VG_",
        "colab_type": "code",
        "colab": {}
      },
      "source": [
        "# Creates an additional empty column within the dataset to store the words per song value\n",
        "data['wpm'] = 0\n",
        "# Iterates through the all the songs that have a words per song value and adds them in the correct location\n",
        "for i in range (len(wpm)):\n",
        "  d = wpm[i]\n",
        "  data['wpm'].iloc[d[0]] = d[1]"
      ],
      "execution_count": 0,
      "outputs": []
    },
    {
      "cell_type": "code",
      "metadata": {
        "id": "8a_AmOdk6wF-",
        "colab_type": "code",
        "colab": {}
      },
      "source": [
        "# Drops all the data values that did not have a words per song value\n",
        "for i in range(len(data)):\n",
        "  if data['wpm'].iloc[i] == 0:\n",
        "    data = data.drop(data.index[i])"
      ],
      "execution_count": 0,
      "outputs": []
    },
    {
      "cell_type": "code",
      "metadata": {
        "id": "de47YBF1bpI9",
        "colab_type": "code",
        "colab": {}
      },
      "source": [
        "# Stores the dataset as a csv file\n",
        "from numpy import savetxt\n",
        "savetxt('wpmdata.csv', data, delimiter=',')"
      ],
      "execution_count": 0,
      "outputs": []
    },
    {
      "cell_type": "code",
      "metadata": {
        "id": "FmhrhVu1BS6z",
        "colab_type": "code",
        "colab": {}
      },
      "source": [
        ""
      ],
      "execution_count": 0,
      "outputs": []
    }
  ]
}