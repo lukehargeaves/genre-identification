{
  "nbformat": 4,
  "nbformat_minor": 0,
  "metadata": {
    "colab": {
      "name": "Method to produce product",
      "provenance": [],
      "collapsed_sections": [],
      "machine_shape": "hm"
    },
    "kernelspec": {
      "name": "python3",
      "display_name": "Python 3"
    }
  },
  "cells": [
    {
      "cell_type": "markdown",
      "metadata": {
        "id": "-TH4raZlnS9L",
        "colab_type": "text"
      },
      "source": [
        "# **This file is not a solution. It is an example and demonstration of the work done and the decisions taken in order to acheive the final output of the system.** Please see the alternative scripts for the solution"
      ]
    },
    {
      "cell_type": "markdown",
      "metadata": {
        "id": "DuJYBmUK3mMV",
        "colab_type": "text"
      },
      "source": [
        "Importing the libraries to be used within the intial data analysis. The data csv file is then read using the Pandas read function and stored in the data variable.\n",
        "\n",
        "The category names for song genre is transformed into categorical data.\n",
        " \n"
      ]
    },
    {
      "cell_type": "code",
      "metadata": {
        "id": "HXOcydQW3U6L",
        "colab_type": "code",
        "colab": {}
      },
      "source": [
        "# Importing the libraries for the project\n",
        "import pandas as pd\n",
        "from sklearn.cluster import KMeans\n",
        "import numpy as np\n",
        "import matplotlib.pyplot as plt\n",
        "# Configure the output display of Matplotlib, the library used for displaying the graphs\n",
        "%matplotlib inline\n",
        "plt.rcParams[\"figure.figsize\"] = [10, 5]\n",
        "\n",
        "# Reads and stores the two datasets \n",
        "data = pd.read_csv('msd_genre_dataset.csv')\n",
        "wpmdata = pd.read_csv('wpmdata.csv')\n",
        "\n",
        "# Converts the genre labels to numerical values within both datasets. This is an important step for the training and testing of the machine learning model\n",
        "data ['genre'] = data['genre'].astype('category')\n",
        "data['new_genre'] = data['genre'].cat.codes\n",
        "wpmdata['genre'] = wpmdata['genre'].astype('category')\n",
        "wpmdata['new_genre'] = wpmdata['genre'].cat.codes\n"
      ],
      "execution_count": 0,
      "outputs": []
    },
    {
      "cell_type": "markdown",
      "metadata": {
        "id": "UokZ1KE7T94r",
        "colab_type": "text"
      },
      "source": [
        "Demonstrating that the dataset has no obvious apparent arrounous data points. "
      ]
    },
    {
      "cell_type": "code",
      "metadata": {
        "id": "_e3F6CumInbt",
        "colab_type": "code",
        "outputId": "3468f1c2-7205-4181-cd32-51938b1400b7",
        "colab": {
          "base_uri": "https://localhost:8080/",
          "height": 629
        }
      },
      "source": [
        "# Displays the columns within the dataset and the number of NaN values found within each column\n",
        "data.isna().sum()"
      ],
      "execution_count": 0,
      "outputs": [
        {
          "output_type": "execute_result",
          "data": {
            "text/plain": [
              "genre             0\n",
              "track_id          0\n",
              "artist_name       0\n",
              "title             0\n",
              "loudness          0\n",
              "tempo             0\n",
              "time_signature    0\n",
              "key               0\n",
              "mode              0\n",
              "duration          0\n",
              "avg_timbre1       0\n",
              "avg_timbre2       0\n",
              "avg_timbre3       0\n",
              "avg_timbre4       0\n",
              "avg_timbre5       0\n",
              "avg_timbre6       0\n",
              "avg_timbre7       0\n",
              "avg_timbre8       0\n",
              "avg_timbre9       0\n",
              "avg_timbre10      0\n",
              "avg_timbre11      0\n",
              "avg_timbre12      0\n",
              "var_timbre1       0\n",
              "var_timbre2       0\n",
              "var_timbre3       0\n",
              "var_timbre4       0\n",
              "var_timbre5       0\n",
              "var_timbre6       0\n",
              "var_timbre7       0\n",
              "var_timbre8       0\n",
              "var_timbre9       0\n",
              "var_timbre10      0\n",
              "var_timbre11      0\n",
              "var_timbre12      0\n",
              "new_genre         0\n",
              "dtype: int64"
            ]
          },
          "metadata": {
            "tags": []
          },
          "execution_count": 3
        }
      ]
    },
    {
      "cell_type": "markdown",
      "metadata": {
        "id": "g12imMXAEa6M",
        "colab_type": "text"
      },
      "source": [
        "(§ 3.2.5 Implementation - Feature Aggregation) The average for both Timbre variance and Timbre average across the 12 input values are calculated. These values are stored within two seperate columns within the dataset. "
      ]
    },
    {
      "cell_type": "code",
      "metadata": {
        "id": "x-2kEZsoEXsp",
        "colab_type": "code",
        "outputId": "6cf608c9-906a-48f1-a1e1-8eb80d3d3b7b",
        "colab": {
          "base_uri": "https://localhost:8080/",
          "height": 102
        }
      },
      "source": [
        "# Calculates the average timbre value and stores it in an additional column within the dataset\n",
        "data['tim_avg'] = 0\n",
        "# Iterates through each song within the dataset\n",
        "for i in range(len(data['avg_timbre1'])):\n",
        "  # Calculates 1 average value to represent the 12 average timbre values\n",
        "  data['tim_avg'].iloc[i]= (data['avg_timbre1'].iloc[i]+data['avg_timbre2'].iloc[i]+data['avg_timbre3'].iloc[i]+data['avg_timbre4'].iloc[i]+\n",
        "                     data['avg_timbre5'].iloc[i]+data['avg_timbre5'].iloc[i]+data['avg_timbre7'].iloc[i]+data['avg_timbre8'].iloc[i]+\n",
        "                     data['avg_timbre9'].iloc[i]+data['avg_timbre10'].iloc[i]+data['avg_timbre11'].iloc[i]+data['avg_timbre12'].iloc[i])/12\n",
        "\n",
        "# Calculates an average variance timbre value and stores it within an additional column in the dataset\n",
        "data['tim_var'] = 0\n",
        "# Iterates through each song within the dataset\n",
        "for i in range(len(data['var_timbre1'])):\n",
        "  # Calculates one representative value for the 12 average variance values\n",
        "  data['tim_var'].iloc[i]= (data['var_timbre1'].iloc[i]+data['var_timbre2'].iloc[i]+data['var_timbre3'].iloc[i]+data['var_timbre4'].iloc[i]+\n",
        "                     data['var_timbre5'].iloc[i]+data['var_timbre5'].iloc[i]+data['var_timbre7'].iloc[i]+data['var_timbre8'].iloc[i]+\n",
        "                     data['var_timbre9'].iloc[i]+data['var_timbre10'].iloc[i]+data['var_timbre11'].iloc[i]+data['var_timbre12'].iloc[i])/12  "
      ],
      "execution_count": 0,
      "outputs": [
        {
          "output_type": "stream",
          "text": [
            "/usr/local/lib/python3.6/dist-packages/pandas/core/indexing.py:671: SettingWithCopyWarning: \n",
            "A value is trying to be set on a copy of a slice from a DataFrame\n",
            "\n",
            "See the caveats in the documentation: https://pandas.pydata.org/pandas-docs/stable/user_guide/indexing.html#returning-a-view-versus-a-copy\n",
            "  self._setitem_with_indexer(indexer, value)\n"
          ],
          "name": "stderr"
        }
      ]
    },
    {
      "cell_type": "markdown",
      "metadata": {
        "id": "TIcQnr0f5dPW",
        "colab_type": "text"
      },
      "source": [
        "(§ 3.2.5 Implementation - Feature aggregation) The distribution of four data rows using both the average and variance timbre are plotted. This shows how well the avarage value for average timbre and timbre variance are represented. The distributions show both average values do not well represent their respective 12 data points and therefore the idea of feature aggregation is not used."
      ]
    },
    {
      "cell_type": "code",
      "metadata": {
        "id": "sJV0k86pH49W",
        "colab_type": "code",
        "outputId": "1c8e0815-3ee0-47fb-aa60-0f09a1798605",
        "colab": {
          "base_uri": "https://localhost:8080/",
          "height": 695
        }
      },
      "source": [
        "# Intialise 4 arrays, dediacated to store the 12 average timbre variance values for one song \n",
        "test_data_var1 = [] \n",
        "test_data_var2 = []\n",
        "test_data_var3 = []\n",
        "test_data_var4 = []\n",
        "\n",
        "# Intialise 4 arrays, dediacated to store the 12 average timbre values for one song \n",
        "test_data_avg1 = []\n",
        "test_data_avg2 = []\n",
        "test_data_avg3 = []\n",
        "test_data_avg4 = []\n",
        "\n",
        "# Each letter represents one song within the dataset. For example K represents song the data for the song in the 3rd row.\n",
        "k = 3\n",
        "j = 4\n",
        "k1 = 5\n",
        "j1 = 6\n",
        "\n",
        "# Function to return the 12 timbre values associated with one song. \n",
        "def get_data(text1,text2):\n",
        "  # Iteratres through each timbre value\n",
        "  for i in range(1,10):\n",
        "    # Adds the timbre value for the specified song to the specified array\n",
        "    test_data_var1.append(data[text1+str(i)].iloc[k])\n",
        "    test_data_var2.append(data[text1+str(i)].iloc[j])\n",
        "    test_data_var3.append(data[text1+str(i)].iloc[k1])\n",
        "    test_data_var4.append(data[text1+str(i)].iloc[j1])\n",
        "\n",
        "    test_data_avg1.append(data[text2+str(i)].iloc[k])\n",
        "    test_data_avg2.append(data[text2+str(i)].iloc[j])\n",
        "    test_data_avg3.append(data[text2+str(i)].iloc[k1])\n",
        "    test_data_avg4.append(data[text2+str(i)].iloc[j1])\n",
        "\n",
        "# Plot the 12 timbre values for each song on a distribution plot to examine if the average value evenly represents the data spread\n",
        "def box_plot(data1,data2,data3,data4):\n",
        "  fig = plt.figure()\n",
        "  ax = fig.add_subplot()\n",
        "  ax.boxplot([data1,data2,data3,data4])\n",
        "  fig.suptitle(\"Box plot showing the distribution for timbre values\",fontsize=12, color ='C3')\n",
        "get_data('avg_timbre','var_timbre')\n",
        "\n",
        "\n",
        "box_plot(test_data_var1,test_data_var2,test_data_var3,test_data_var4)\n",
        "box_plot(test_data_avg1,test_data_avg2,test_data_avg3,test_data_avg4)"
      ],
      "execution_count": 0,
      "outputs": [
        {
          "output_type": "display_data",
          "data": {
            "image/png": "[encoded data removed]",
            "text/plain": [
              "<Figure size 720x360 with 1 Axes>"
            ]
          },
          "metadata": {
            "tags": [],
            "needs_background": "light"
          }
        },
        {
          "output_type": "display_data",
          "data": {
            "image/png": "[encoded data removed]",
            "text/plain": [
              "<Figure size 720x360 with 1 Axes>"
            ]
          },
          "metadata": {
            "tags": [],
            "needs_background": "light"
          }
        }
      ]
    },
    {
      "cell_type": "markdown",
      "metadata": {
        "id": "Uym_9M9t4grd",
        "colab_type": "text"
      },
      "source": [
        "(§ 3.2.4 Implementation - Feature reduction) Creates the two datasets used for PCA. "
      ]
    },
    {
      "cell_type": "code",
      "metadata": {
        "id": "Vtwk0PbD74N0",
        "colab_type": "code",
        "outputId": "46b7d0e5-abf5-431e-a64f-d00abf8af2cf",
        "colab": {
          "base_uri": "https://localhost:8080/",
          "height": 51
        }
      },
      "source": [
        "# Creates a dataset for the Million Song Dataset to use for PCA. Drops the columns not needed \n",
        "msd_pca = data.drop(columns=['genre','title','track_id','artist_name','new_genre','tim_avg','tim_var'])\n",
        "# Creates a dataset for the Words Per Song dataset to use for PCA. Drops the columns not needed \n",
        "wpm_pca = wpmdata.drop(columns=['genre','title','track_id','artist_name','new_genre'])\n",
        "\n",
        "# Display the number of input features associated with each dataset\n",
        "print(\"Total number of features in the Million Song Genre Dataset \"+str(msd_pca.shape[1]))\n",
        "print(\"Total number of features in the Words Per Minute Dataset \"+str(wpm_pca.shape[1]))"
      ],
      "execution_count": 0,
      "outputs": [
        {
          "output_type": "stream",
          "text": [
            "Total number of features in the Million Song Genre Dataset 30\n",
            "Total number of features in the Words Per Minute Dataset 31\n"
          ],
          "name": "stdout"
        }
      ]
    },
    {
      "cell_type": "markdown",
      "metadata": {
        "id": "SbIhzEyFRLuM",
        "colab_type": "text"
      },
      "source": [
        "(§ 3.2.1 Implementation - Data Pre-processing Normalisation)Performs standard scalling on the datasets to normalize the input data."
      ]
    },
    {
      "cell_type": "code",
      "metadata": {
        "id": "uDU-TYOHI-Ok",
        "colab_type": "code",
        "colab": {}
      },
      "source": [
        "# Use normalisations on the each dataset\n",
        "from sklearn.preprocessing import StandardScaler\n",
        "wpm_pca = StandardScaler().fit_transform(wpm_pca)\n",
        "msd_pca = StandardScaler().fit_transform(msd_pca)"
      ],
      "execution_count": 0,
      "outputs": []
    },
    {
      "cell_type": "markdown",
      "metadata": {
        "id": "YJV8dI2tRST3",
        "colab_type": "text"
      },
      "source": [
        "(§ 3.2.4 Implementation - Feature reduction) Performs PCA on the two datasets. Outputs the number of components needed to make up 95% of the datsets information. PCA orders the features in there relevance for outputting the most information corrolating to the output."
      ]
    },
    {
      "cell_type": "code",
      "metadata": {
        "id": "l4zqMqES6WXr",
        "colab_type": "code",
        "outputId": "157b2311-9732-4522-815f-654bbde8709e",
        "colab": {
          "base_uri": "https://localhost:8080/",
          "height": 51
        }
      },
      "source": [
        "# Imports the PCA library\n",
        "from sklearn.decomposition import PCA\n",
        "\n",
        "# Performs PCA on the Words per song dataset. Only selects the features needed for 95% variance within the dataset\n",
        "pca = PCA(.95)\n",
        "pca.fit(wpm_pca)\n",
        "wpm_pca = pca.transform(wpm_pca)\n",
        "\n",
        "# Performs PCA on the Million Song dataset. Only selects the features needed for 95% variance within the dataset\n",
        "pca2 = PCA(.95)\n",
        "pca2.fit(msd_pca)\n",
        "msd_pca = pca2.transform(msd_pca)\n",
        "\n",
        "# Stores the number of features remaining for each dataset within a new variable\n",
        "wpm_after = wpm_pca.shape[1]\n",
        "msd_after = msd_pca.shape[1]\n",
        "\n",
        "# Prints the number of features after 95% variance PCA.\n",
        "print(\"Number of features needed for 95% variance within the Million Song Genre Dataset \"+ str(msd_after))\n",
        "print(\"Number of features needed for 95% variance within the Words Per Song Dataset \"+ str(wpm_after))"
      ],
      "execution_count": 0,
      "outputs": [
        {
          "output_type": "stream",
          "text": [
            "Number of features needed for 95% variance within the Million Song Genre Dataset 22\n",
            "Number of features needed for 95% variance within the Words Per Song Dataset 22\n"
          ],
          "name": "stdout"
        }
      ]
    },
    {
      "cell_type": "markdown",
      "metadata": {
        "id": "zUrIc59ZRn2h",
        "colab_type": "text"
      },
      "source": [
        "(§ 3.2.4 Implementation - Feature reduction) Both PCA plots, showing the number of features needed to achieve a total (%)variance, are compared. The most noteworthy factor is that orignally the WPM dataset had one additonal feature but they both result with needing 22 features for 95% variance. Similarly, the plot also shows that 9 input factors within the WPM dataset and 8 within the MSD dataset are not needed for 100 variance. "
      ]
    },
    {
      "cell_type": "code",
      "metadata": {
        "id": "Ce_EP7Dr8ZcR",
        "colab_type": "code",
        "outputId": "a3bca211-be03-4a22-8c79-8c2e1d2f1548",
        "colab": {
          "base_uri": "https://localhost:8080/",
          "height": 368
        }
      },
      "source": [
        "# Plots both PCA curves for each dataset\n",
        "pca_1 = PCA().fit(msd_pca.data)\n",
        "plt.plot(np.cumsum(pca_1.explained_variance_ratio_))\n",
        "pca_2 = PCA().fit(wpm_pca.data)\n",
        "plt.plot(np.cumsum(pca_2.explained_variance_ratio_))\n",
        "plt.legend(['MSD PCA', 'WPM PCA'], loc='lower right')\n",
        "plt.ylabel('Total Variance')\n",
        "plt.xlabel('Number of features')\n",
        "plt.title('Results of PCA on the MSD and WPM dataset', fontsize=14, color = \"C3\")"
      ],
      "execution_count": 0,
      "outputs": [
        {
          "output_type": "execute_result",
          "data": {
            "text/plain": [
              "Text(0.5, 1.0, 'Results of PCA on the MSD and WPM dataset')"
            ]
          },
          "metadata": {
            "tags": []
          },
          "execution_count": 9
        },
        {
          "output_type": "display_data",
          "data": {
            "image/png": "[encoded data removed]",
            "text/plain": [
              "<Figure size 720x360 with 1 Axes>"
            ]
          },
          "metadata": {
            "tags": [],
            "needs_background": "light"
          }
        }
      ]
    },
    {
      "cell_type": "markdown",
      "metadata": {
        "id": "eEMIFz4NN4NK",
        "colab_type": "text"
      },
      "source": [
        "Three different datasets were created to test which produced the best accuracy;\n",
        "1. PCA version of the MSD dataset \n",
        "2. PCA version of the words per song dataset"
      ]
    },
    {
      "cell_type": "code",
      "metadata": {
        "id": "5xE7MHtzdMYl",
        "colab_type": "code",
        "colab": {}
      },
      "source": [
        "# Renames the name of the PCA datasets for the MSD dataset and words per song dataset\n",
        "PCA_MSD = msd_pca\n",
        "PCA_WPM = wpm_pca"
      ],
      "execution_count": 0,
      "outputs": []
    },
    {
      "cell_type": "markdown",
      "metadata": {
        "id": "12veESNv4xXF",
        "colab_type": "text"
      },
      "source": [
        "The relevant librarires were imported for Keras and Tensorflow to enable the creation of the ANN and CNN models"
      ]
    },
    {
      "cell_type": "code",
      "metadata": {
        "id": "d9vtvwoQBQMu",
        "colab_type": "code",
        "colab": {}
      },
      "source": [
        "# Imports the libraries needed for implementing the ANN and CNN\n",
        "from __future__ import print_function\n",
        "import keras \n",
        "from tensorflow.keras.models import Sequential\n",
        "from tensorflow.keras.layers import Dense, Conv1D, Dropout, MaxPooling1D, Flatten, LeakyReLU\n",
        "from tensorflow.keras.utils import to_categorical\n",
        "from tensorflow.keras import optimizers\n",
        "import tensorflow as tf\n",
        "\n",
        "# Converts the labels into categorical(numerical) values. Categorical values are needed for the Neural Network to understand\n",
        "wpm_labels = wpmdata['new_genre']\n",
        "msd_labels = data['new_genre']\n",
        "wpm_Y = to_categorical(wpm_labels)\n",
        "msd_Y = to_categorical(msd_labels)"
      ],
      "execution_count": 0,
      "outputs": []
    },
    {
      "cell_type": "markdown",
      "metadata": {
        "id": "uk1ssczoOkK7",
        "colab_type": "text"
      },
      "source": [
        "Performs the train test split using 33% for testing and the 67% for training. I use random state 42 to randomise the data within the train and test sets. Seed 42 was used so the same randomization can be replicated for furture investigations. "
      ]
    },
    {
      "cell_type": "code",
      "metadata": {
        "id": "nJNwkQgJCKPj",
        "colab_type": "code",
        "colab": {}
      },
      "source": [
        "# Imports the SKLearn train test split library\n",
        "from sklearn.model_selection import train_test_split\n",
        "# Performs the train and test split on the PCA MSD and WPM dataset\n",
        "wpm_x_train,wpm_x_test,wpm_y_train,wpm_y_test = train_test_split(PCA_WPM,wpm_Y,test_size = 0.20,random_state = 42)\n",
        "msd_x_train,msd_x_test,msd_y_train,msd_y_test = train_test_split(PCA_MSD, msd_Y,test_size = 0.20,random_state = 42)"
      ],
      "execution_count": 0,
      "outputs": []
    },
    {
      "cell_type": "markdown",
      "metadata": {
        "id": "qN8lzAcbWLCY",
        "colab_type": "text"
      },
      "source": [
        "(§ 3.2.2.3 Implementation - Optimation of architecture) An example of the process that was repeated for each dataset to find the maximum accuracy and after how many interations and which model complexity. This exaample shows the ANN optimization implementation."
      ]
    },
    {
      "cell_type": "code",
      "metadata": {
        "id": "rzwfU7t7CVNd",
        "colab_type": "code",
        "colab": {}
      },
      "source": [
        "# Initalise and array to store the loss and accuracy values of each model\n",
        "loss_and_accuracy = []\n",
        "# Sets the learning rate used within the ANN\n",
        "sgd = optimizers.SGD(lr=0.01)\n",
        "\n",
        "# Initalises one ANN with 4 hidden layers\n",
        "model1 = Sequential()\n",
        "model1.add(Dense(units = 64, activation =LeakyReLU(alpha=0.1), input_dim = msd_x_train.shape[1]))\n",
        "model1.add(Dense(units = 128, activation =LeakyReLU(alpha=0.1)))\n",
        "model1.add(Dense(units = 256, activation = LeakyReLU(alpha=0.1)))\n",
        "model1.add(Dense(units = 256, activation = LeakyReLU(alpha=0.1)))\n",
        "model1.add(Dense(units = 128, activation =LeakyReLU(alpha=0.1)))\n",
        "model1.add(Dense(units=10,activation='softmax'))\n",
        "model1.compile(loss='categorical_crossentropy',optimizer=sgd,metrics=['accuracy'])\n",
        "\n",
        "# Initialises a second ANN with 2 hidden layers\n",
        "model2 = Sequential()\n",
        "model2.add(Dense(units = 64, activation =LeakyReLU(alpha=0.1), input_dim = msd_x_train.shape[1]))\n",
        "model2.add(Dense(units = 128,activation =LeakyReLU(alpha=0.1)))\n",
        "model2.add(Dense(units=10,activation='softmax'))\n",
        "model2.compile(loss='categorical_crossentropy',optimizer=sgd,metrics=['accuracy'])\n",
        "\n",
        "# Initialises a third ANN with 3 hidden layers\n",
        "model3 = Sequential()\n",
        "model3.add(Dense(units = 64, activation = LeakyReLU(alpha=0.1), input_dim = msd_x_train.shape[1]))\n",
        "model3.add(Dense(units = 128, activation =LeakyReLU(alpha=0.1)))\n",
        "model3.add(Dense(units = 256, activation = LeakyReLU(alpha=0.1)))\n",
        "model3.add(Dense(units=10,activation='softmax'))\n",
        "model3.compile(loss='categorical_crossentropy',optimizer=sgd,metrics=['accuracy'])\n",
        "\n",
        "# Used an iterative loop for each model. Training up to 120 epochs, increasing by 20 epochs each time\n",
        "# Each model is declared above with varying levels of complexity.\n",
        "for i in range(0,100,20):\n",
        "  # Fits the model wtih teh training and test data and the number of epochs defined by the iterative loop\n",
        "  model1.fit(msd_x_train,msd_y_train,epochs=i, batch_size= 32)\n",
        "  # Measures the loss and accuracy of the model\n",
        "  loss,accuracy = model1.evaluate(msd_x_test,msd_y_test,batch_size  = 32)\n",
        "  # Adds the loss and accuracy to the array\n",
        "  loss_and_accuracy.append([loss,accuracy, i,1])\n",
        "for i in range(0,100,20):\n",
        "  model2.fit(msd_x_train,msd_y_train,epochs=i, batch_size= 32)\n",
        "  loss,accuracy = model2.evaluate(msd_x_test,msd_y_test,batch_size  = 32)\n",
        "  loss_and_accuracy.append([loss,accuracy, i,2])\n",
        "for i in range(0,100,20):\n",
        "  model3.fit(msd_x_train,msd_y_train,epochs=i, batch_size= 32)\n",
        "  loss,accuracy = model3.evaluate(msd_x_test,msd_y_test,batch_size  = 32)\n",
        "  loss_and_accuracy.append([loss,accuracy, i,3])"
      ],
      "execution_count": 0,
      "outputs": []
    },
    {
      "cell_type": "markdown",
      "metadata": {
        "id": "0xIDY0qJ5Q0s",
        "colab_type": "text"
      },
      "source": [
        "Plots the output accuracy of each of the created models"
      ]
    },
    {
      "cell_type": "code",
      "metadata": {
        "id": "AvLY-ueOO6K_",
        "colab_type": "code",
        "outputId": "9733b2aa-8499-4e0c-f359-0f537e052021",
        "colab": {
          "base_uri": "https://localhost:8080/",
          "height": 352
        }
      },
      "source": [
        "# Plots a graph displaying the accuracy of each model and at how many epochs\n",
        "loss_and_accuracy = np.array(loss_and_accuracy)\n",
        "plt.plot(loss_and_accuracy[0:4,2] ,loss_and_accuracy[0:4,1])\n",
        "plt.plot(loss_and_accuracy[5:9,2] ,loss_and_accuracy[5:9,1])\n",
        "plt.plot(loss_and_accuracy[10:14,2] ,loss_and_accuracy[10:14,1])\n",
        "plt.legend(['4 Hidden Layer', '2 Hidden Layer','3 Hidden Layer'], loc='lower right')\n",
        "plt.ylabel('Accuracy (decimal)')\n",
        "plt.xlabel('Number of epochs')\n",
        "plt.title('ANN parameter optimization', fontsize=16)\n",
        "plt.show()"
      ],
      "execution_count": 0,
      "outputs": [
        {
          "output_type": "display_data",
          "data": {
            "image/png": "[encoded data removed]",
            "text/plain": [
              "<Figure size 720x360 with 1 Axes>"
            ]
          },
          "metadata": {
            "tags": [],
            "needs_background": "light"
          }
        }
      ]
    },
    {
      "cell_type": "markdown",
      "metadata": {
        "id": "SNLqSNywWHnj",
        "colab_type": "text"
      },
      "source": [
        "(§ 3.2.2.4 Implementation) Creation of the autoencoder model"
      ]
    },
    {
      "cell_type": "code",
      "metadata": {
        "id": "i49lB9_APYEN",
        "colab_type": "code",
        "colab": {}
      },
      "source": [
        "# Imports the libraries for the Autoencoder\n",
        "from keras.layers import Input, Dense\n",
        "from keras.models import Model\n",
        "\n",
        "# Defines the input shape within the first layer of the autoencoder\n",
        "x = Input(shape=(22,))\n",
        "# Defines how many outputs within the encoding\n",
        "encoded = Dense(2,activation = 'relu')(x)\n",
        "# Defines the decoding layer and the number of expected outputs\n",
        "decoded = Dense(22,activation = 'sigmoid')(encoded)\n",
        "\n",
        "# Creates the autoencoder based upon the defined layers. \n",
        "autoencoder = Model(x,decoded)\n",
        "encoder =Model(x,encoded)\n",
        "encoded_input = Input(shape=(2,))\n",
        "decoder_layer = autoencoder.layers[-1]\n",
        "sgd = optimizers.SGD(lr=0.01)\n",
        "decoder = Model(encoded_input,decoder_layer(encoded_input))\n",
        "autoencoder.compile(optimizer=sgd,loss='mse')\n",
        "autoencoder.fit(msd_x_train,msd_x_train,epochs=100,shuffle=True,\n",
        "                validation_data=(msd_x_test,msd_x_test))\n",
        "\n",
        "# Takes the test data and outputs two data points for each song by only using the encoding part of the autoencoder.\n",
        "test = encoder.predict(msd_x_test)\n"
      ],
      "execution_count": 0,
      "outputs": []
    },
    {
      "cell_type": "markdown",
      "metadata": {
        "id": "9a4w1rgbWAz-",
        "colab_type": "text"
      },
      "source": [
        "A graph showing the groupings based upon the autoencoder output. Genres are defined within colours"
      ]
    },
    {
      "cell_type": "code",
      "metadata": {
        "id": "p0J1718iuO9T",
        "colab_type": "code",
        "colab": {}
      },
      "source": [
        "#Plots the two datapoints for each song based upon the encoding of the autoencoder. Plots them on a scatter plot to examine if there is defined groupings \n",
        "fig, axis = plt.subplots()\n",
        "scatter =axis.scatter(test[:,0],test[:,1],c=y_test3)\n",
        "plt.figure(figsize=(300,200))\n",
        "legend1 = axis.legend(*scatter.legend_elements(),\n",
        "                    loc=\"lower right\", title=\"Classes\")\n",
        "axis.add_artist(legend1)\n",
        "plt.show()"
      ],
      "execution_count": 0,
      "outputs": []
    },
    {
      "cell_type": "markdown",
      "metadata": {
        "id": "QIK3ZhL8V8sE",
        "colab_type": "text"
      },
      "source": [
        "(§ 3.2.2.2 Implementation - Feature reduction) Reshaping of the input data for the CNN. This is so the input data is in the correct format for the convolutional kernels. This process is done for both the training and testing data."
      ]
    },
    {
      "cell_type": "code",
      "metadata": {
        "id": "e813jpBTnwdb",
        "colab_type": "code",
        "colab": {}
      },
      "source": [
        "# Reshapes the training and test data so it is in the correct format for the CNN \n",
        "x_train1 = np.reshape(msd_x_train,(msd_x_train.shape[0],msd_x_train.shape[1],1))\n",
        "x_test1 = np.reshape(msd_x_test,(msd_x_test.shape[0],msd_x_test.shape[1],1))"
      ],
      "execution_count": 0,
      "outputs": []
    },
    {
      "cell_type": "markdown",
      "metadata": {
        "id": "fKlPP2f45cQD",
        "colab_type": "text"
      },
      "source": [
        "Prints out the new shape of the input data. "
      ]
    },
    {
      "cell_type": "code",
      "metadata": {
        "id": "BpYts4dLAR_c",
        "colab_type": "code",
        "outputId": "b647960b-6c8d-4a92-93ed-39cd029d6fe1",
        "colab": {
          "base_uri": "https://localhost:8080/",
          "height": 34
        }
      },
      "source": [
        "# Prints the shape of the reshaped data\n",
        "x_train1.shape"
      ],
      "execution_count": 0,
      "outputs": [
        {
          "output_type": "execute_result",
          "data": {
            "text/plain": [
              "(47680, 22, 1)"
            ]
          },
          "metadata": {
            "tags": []
          },
          "execution_count": 24
        }
      ]
    },
    {
      "cell_type": "markdown",
      "metadata": {
        "id": "6Baw5ppf5kUu",
        "colab_type": "text"
      },
      "source": [
        "(§ 3.2.2.3 Implementation - Model architecture optimization) The optimal model architecture is determined for the implementation of the CNN. This is done by implementing multiple different variations of the architecture and examining the output. "
      ]
    },
    {
      "cell_type": "code",
      "metadata": {
        "id": "czYa3K-Muaex",
        "colab_type": "code",
        "colab": {}
      },
      "source": [
        "# Creation of an array to store the loss and accuracy variables\n",
        "loss_and_accuracy2 = []\n",
        "# Code to create the Convolutional Neural Network. Each model has a different level of complexity\n",
        "model = Sequential()\n",
        "model.add(Conv1D(filters= 32 , kernel_size=3, activation = LeakyReLU(alpha=0.1), input_shape = (22,1)))\n",
        "model.add(Conv1D(filters= 128 , kernel_size=3, activation =LeakyReLU(alpha=0.1)))\n",
        "model.add(Conv1D(filters= 256 , kernel_size=3, activation = LeakyReLU(alpha=0.1)))\n",
        "model.add(MaxPooling1D(pool_size=2))\n",
        "model.add(Dropout(0.25))\n",
        "model.add(Flatten())\n",
        "model.add(Dense(100,activation='relu'))\n",
        "model.add(Dropout(0.5))\n",
        "model.add(Dense(10,activation='softmax'))\n",
        "model.compile(loss='categorical_crossentropy',optimizer='adam',metrics=['accuracy'])\n",
        "\n",
        "model1 = Sequential()\n",
        "model1.add(Conv1D(filters= 32 , kernel_size=3, activation = LeakyReLU(alpha=0.1), input_shape = (22,1)))\n",
        "model1.add(Conv1D(filters= 128 , kernel_size=3, activation =LeakyReLU(alpha=0.1)))\n",
        "model1.add(Conv1D(filters= 256 , kernel_size=3, activation = LeakyReLU(alpha=0.1)))\n",
        "model1.add(Conv1D(filters= 128 , kernel_size=3, activation =LeakyReLU(alpha=0.1)))\n",
        "model1.add(MaxPooling1D(pool_size=2))\n",
        "model1.add(Dropout(0.25))\n",
        "model1.add(Flatten())\n",
        "model1.add(Dense(100,activation='relu'))\n",
        "model1.add(Dropout(0.5))\n",
        "model1.add(Dense(10,activation='softmax'))\n",
        "model1.compile(loss='categorical_crossentropy',optimizer='adam',metrics=['accuracy'])\n",
        "\n",
        "model2 = Sequential()\n",
        "model2.add(Conv1D(filters= 32 , kernel_size=3, activation = LeakyReLU(alpha=0.1), input_shape = (22,1)))\n",
        "model2.add(Conv1D(filters= 128 , kernel_size=3, activation =LeakyReLU(alpha=0.1)))\n",
        "model2.add(MaxPooling1D(pool_size=2))\n",
        "model2.add(Dropout(0.25))\n",
        "model2.add(Flatten())\n",
        "model2.add(Dense(100,activation='relu'))\n",
        "model2.add(Dropout(0.5))\n",
        "model2.add(Dense(10,activation='softmax'))\n",
        "model2.compile(loss='categorical_crossentropy',optimizer='adam',metrics=['accuracy'])\n",
        "\n",
        "# Loops through training and testing each model after a different number of epochs\n",
        "for i in range(0,80,20):\n",
        "  model1.fit(x_train1,msd_y_train,epochs=i, batch_size= 32)\n",
        "  loss,accuracy = model1.evaluate(x_test1,msd_y_test,batch_size  = 32)\n",
        "  loss_and_accuracy2.append([loss,accuracy, i,1])\n",
        "for i in range(0,80,20):\n",
        "  model2.fit(x_train1,msd_y_train,epochs=i, batch_size= 32)\n",
        "  loss,accuracy = model2.evaluate(x_test1,msd_y_test,batch_size  = 32)\n",
        "  loss_and_accuracy2.append([loss,accuracy, i,2])\n",
        "for i in range(0,80,20):\n",
        "  model.fit(x_train1,msd_y_train,epochs=i, batch_size= 32)\n",
        "  loss,accuracy = model.evaluate(x_test1,msd_y_test,batch_size  = 32)\n",
        "  loss_and_accuracy2.append([loss,accuracy, i,3])"
      ],
      "execution_count": 0,
      "outputs": []
    },
    {
      "cell_type": "markdown",
      "metadata": {
        "id": "BjG9e1A5V62t",
        "colab_type": "text"
      },
      "source": [
        "Displays the output from the model optimization"
      ]
    },
    {
      "cell_type": "code",
      "metadata": {
        "id": "-DhniV6-tT-U",
        "colab_type": "code",
        "outputId": "5ec34900-0afd-41b7-a1fc-7808cd6fab6a",
        "colab": {
          "base_uri": "https://localhost:8080/",
          "height": 352
        }
      },
      "source": [
        "loss_and_accuracy2 = np.array(loss_and_accuracy2)\n",
        "plt.plot(loss_and_accuracy2[0:6,2] ,loss_and_accuracy2[0:6,1])\n",
        "plt.plot(loss_and_accuracy2[6:12,2] ,loss_and_accuracy2[6:12,1])\n",
        "plt.plot(loss_and_accuracy2[12:18,2] ,loss_and_accuracy2[12:18,1])\n",
        "plt.legend(['3 Hidden Layers', '4 Hidden Layers','2 Hidden Layers'], loc='lower right')\n",
        "plt.ylabel('Accuracy (decimal)')\n",
        "plt.xlabel('Number of epochs')\n",
        "plt.title('CNN parameter optimization', fontsize=16)\n",
        "plt.show()"
      ],
      "execution_count": 0,
      "outputs": [
        {
          "output_type": "display_data",
          "data": {
            "image/png": "[encoded data removed]",
            "text/plain": [
              "<Figure size 720x360 with 1 Axes>"
            ]
          },
          "metadata": {
            "tags": [],
            "needs_background": "light"
          }
        }
      ]
    },
    {
      "cell_type": "code",
      "metadata": {
        "id": "3_mxX2DX8JBf",
        "colab_type": "code",
        "colab": {}
      },
      "source": [
        ""
      ],
      "execution_count": 0,
      "outputs": []
    }
  ]
}